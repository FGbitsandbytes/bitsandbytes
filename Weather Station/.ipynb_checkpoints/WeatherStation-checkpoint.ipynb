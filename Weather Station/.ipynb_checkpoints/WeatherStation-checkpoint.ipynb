{
 "cells": [
  {
   "cell_type": "markdown",
   "id": "966d898a-d443-45ce-b685-9ff0966536e7",
   "metadata": {},
   "source": [
    "# The Weather Station project\n",
    "\n",
    "[written in markdown](https://daringfireball.net/projects/markdown/syntax)"
   ]
  },
  {
   "cell_type": "markdown",
   "id": "afadb040-336f-41a0-ac4c-0ee2c9ec9b1a",
   "metadata": {},
   "source": [
    "[Raspberry Pi Weather Station using the Sense HAT](https://pimylifeup.com/raspberry-pi-weather-station/)"
   ]
  },
  {
   "cell_type": "markdown",
   "id": "9a6d2018-0c3d-418f-b772-e2792327fbcb",
   "metadata": {},
   "source": [
    "![Raspberry Pi Weather station](Raspberry-Pi-Weather-Station-v1.jpg)"
   ]
  },
  {
   "cell_type": "markdown",
   "id": "bb998476-cee9-4884-bc9a-cd665d587117",
   "metadata": {},
   "source": [
    "This weather station is the perfect little hobby project for anyone wishing to start monitoring the weather conditions in a specific room, outside or anywhere you would like.\n",
    "\n",
    "For anyone who doesn’t know, the [Sense HAT is a fantastic piece of equipment](https://pimylifeup.com/raspberry-pi-sense-hat/) that comes with a large abundance of sensors all in a single package. It’s the easiest way of [adding a ton of sensors](https://pimylifeup.com/category/raspberry-pi-sensors/) to the Pi without needing to do any extra circuitry.\n",
    "\n",
    "This weather station tutorial will show you how to set up the sense HAT software itself and how to retrieve the data from its three primary sensors, those being the temperature, humidity and pressure sensors. We will also briefly touch on how to write text to the LED Matrix as we will use this as a way of displaying your sensor data.\n",
    "\n",
    "We will also go into setting up your Raspberry Pi weather station so that the data is stored on Initial States Data analytics service, and this will allow us to stream the data directly to their web interface and view all the data in a pretty graph.\n",
    "\n",
    "This tutorial will make use of a large amount of Python code, but luckily it’s all pretty basic so you shouldn’t have too many problems following it.\n",
    "\n",
    "## Equipment\n",
    "You will need a sense HAT and a few other bits of equipment to be able to complete this tutorial.\n",
    "\n",
    "## Recommended\n",
    "- [Raspberry](https://go.pimylifeup.com/l8KF94/amazon/raspberrypi) Pi 2 or 3\n",
    "\n",
    "- [Micro SD Card](https://go.pimylifeup.com/DUVENo/amazon/microsdcard) or a [SD card](https://go.pimylifeup.com/LmAkjt/amazon/sdcard) if you’re using an old version of the Pi.\n",
    "\n",
    "- [Power Supply](https://go.pimylifeup.com/TwjJnF/amazon/powersupply)\n",
    "\n",
    "- [Sense HAT](https://go.pimylifeup.com/TOHmyn/amazon/sensehat)\n",
    "\n",
    "- Ethernet Cable or WiFi Dongle (The Pi 3 has WiFi inbuilt)"
   ]
  },
  {
   "cell_type": "markdown",
   "id": "b1775066-ad9a-49c9-8ad3-27dd0b78602a",
   "metadata": {},
   "source": [
    "# Getting started wit the Sense HAT"
   ]
  },
  {
   "cell_type": "markdown",
   "id": "beb4fd4b-ce2a-4214-b46c-7fb531f4f7c2",
   "metadata": {},
   "source": [
    "Before you get started with this tutorial, make sure that you have correctly placed the Sense HAT on the [GPIO pins on the Raspberry Pi](https://pimylifeup.com/raspberry-pi-gpio/). It’s an incredibly easy installation and shouldn’t require any extra fiddling once installed correctly."
   ]
  },
  {
   "cell_type": "markdown",
   "id": "53d52291-35b2-416b-833f-f3c2775a7a68",
   "metadata": {},
   "source": [
    "1. Before we get started, we need to run the following commands to ensure that the Raspberry Pi is running the latest software."
   ]
  },
  {
   "cell_type": "markdown",
   "id": "61a72727-09b0-41f4-8c4f-8d65106dee5d",
   "metadata": {},
   "source": [
    "<code>sudo apt-get update\n",
    "sudo apt-get upgrade<code>"
   ]
  },
  {
   "cell_type": "markdown",
   "id": "31cd630a-e8c3-41d1-83d9-aa0eccda2792",
   "metadata": {},
   "source": [
    "2. With the Raspberry Pi up to date, we now need to install the Sense Hat software package, and this provides all the libraries we need to interact with the Sense Hat."
   ]
  },
  {
   "cell_type": "markdown",
   "id": "59e7e9e8-f927-442a-8a3e-bd320d18aad2",
   "metadata": {},
   "source": [
    "<code>sudo apt-get install sense-hat\n",
    "sudo reboot<code>"
   ]
  },
  {
   "cell_type": "markdown",
   "id": "0e5c1aa7-83ae-46dd-87b0-718440a0b0a4",
   "metadata": {},
   "source": [
    "3. Now we have the software installed we need to write a quick script to ensure the Sense HAT is working correctly."
   ]
  },
  {
   "cell_type": "markdown",
   "id": "8e262b43-77f9-4236-807f-847c7d3a2389",
   "metadata": {},
   "source": [
    "We can start writing this script by entering the following command.<br><br>\n",
    "<code>sudo nano ~/sensehat_test.py<code>"
   ]
  },
  {
   "cell_type": "markdown",
   "id": "4dc164e8-df28-42c7-8894-8b9c98747027",
   "metadata": {},
   "source": [
    "4. Write the following lines into this file, and we will explain what each section of code does as we go."
   ]
  },
  {
   "cell_type": "markdown",
   "id": "8cbb4a0c-2cc8-4e14-b9ff-2ac548b8d1b8",
   "metadata": {},
   "source": [
    "<code>from sense_hat import SenseHat<code>"
   ]
  },
  {
   "cell_type": "markdown",
   "id": "9c1d76b7-f6be-471f-80de-74371e31e306",
   "metadata": {},
   "source": [
    "This line imports the Sense Hat module from the **sense_hat** library. This library allows us to interact with the Hat itself through python."
   ]
  },
  {
   "cell_type": "markdown",
   "id": "cb4048e1-974d-4378-952a-4f759dc33584",
   "metadata": {},
   "source": [
    "<code>sense = SenseHat()<code>"
   ]
  },
  {
   "cell_type": "markdown",
   "id": "00f8ba4c-6442-4cb9-be88-88f038b13fe3",
   "metadata": {},
   "source": [
    "This line creates a link to the Sense Hat library and initializes itself so we can start making calls to it."
   ]
  },
  {
   "cell_type": "markdown",
   "id": "e56c7ac8-d746-4a5f-98c3-a414ad650200",
   "metadata": {},
   "source": [
    "<code>sense.show_message(\"Hello World\")<code>"
   ]
  },
  {
   "cell_type": "markdown",
   "id": "58f5a0bd-a78f-4c33-924a-fc3239e3f4e3",
   "metadata": {},
   "source": [
    "This line writes a message to the Sense Hat, and you should see “Hello World” scroll across the RGB lights.\n",
    "\n",
    "Press CTRL + X then Y then press ENTER to save the file."
   ]
  },
  {
   "cell_type": "markdown",
   "id": "5707f77d-a212-491a-b7c6-2d205e7fdd66",
   "metadata": {},
   "source": [
    "5. With the file now saved we can run it with the following command:"
   ]
  },
  {
   "cell_type": "markdown",
   "id": "2807b3f0-a7bb-472c-aa1b-f2eb5d212c1e",
   "metadata": {},
   "source": [
    "<code>sudo python ~/sensehat_test.py<code>"
   ]
  },
  {
   "cell_type": "markdown",
   "id": "ecad1ca7-973d-4c36-b5b6-c4b16c1c4788",
   "metadata": {},
   "source": [
    "The text “Hello World” should now scroll across the RGB LEDs on top of the Sense HAT. If it doesn’t, it is likely that the HAT has not been properly pressed down on top of the GPIO pins.\n",
    "\n",
    "If it is still not working, try restarting the Raspberry Pi by rerunning the following command."
   ]
  },
  {
   "cell_type": "markdown",
   "id": "6f8152a3-fb3c-453c-ac3e-66d85354718f",
   "metadata": {},
   "source": [
    "<code>sudo reboot<code>"
   ]
  },
  {
   "cell_type": "markdown",
   "id": "c685fd85-5521-45af-bee5-79a796fa0e72",
   "metadata": {},
   "source": [
    "# Setting up your Sense HAT as a weather station"
   ]
  },
  {
   "cell_type": "markdown",
   "id": "78719146-6224-4642-a7bb-135334f762e5",
   "metadata": {},
   "source": [
    "1. Now that we have tested that the Sense HAT is working correctly we can now get writing our Python weather station script. We will start with a basic script that continually reads and displays all the data from the Sense HAT’s sensors.\n",
    "\n",
    "To begin writing our new Python script run the following command in terminal."
   ]
  },
  {
   "cell_type": "markdown",
   "id": "ad8c19e8-58ae-42c4-ac21-2c36becea67c",
   "metadata": {},
   "source": [
    "<code>sudo nano ~/weather_script.py<code>"
   ]
  },
  {
   "cell_type": "markdown",
   "id": "4e8c747e-1612-489a-8a56-f8fafdae8577",
   "metadata": {},
   "source": [
    "2. Now enter the following lines of code into the script, we will explain each block of code as we go."
   ]
  },
  {
   "cell_type": "markdown",
   "id": "705eaf4c-1067-4689-aba6-c98e35e17144",
   "metadata": {},
   "source": [
    "<code>#!/usr/bin/python\n",
    "from sense_hat import SenseHat\n",
    "import time\n",
    "import sys<code>"
   ]
  },
  {
   "cell_type": "markdown",
   "id": "cf6e42b9-725f-4c73-9357-74cc75fd22ad",
   "metadata": {},
   "source": [
    "First, we need to import all the libraries that we plan to utilize in our script. In our case, we will be using the following libraries.\n",
    "\n",
    "**sense_hat Library**\n",
    "This import is the library that we utilize to interact with the Sense Hat itself, without this we wouldn’t be able to read any of the sensor data or interact with the LED matrix.\n",
    "\n",
    "**time Library**\n",
    "This import allows us to do a large variety of different time stuff, but for our simple script, we will be just using its sleep functionality. This functionality will enable us to suspend the current thread for a small period.\n",
    "\n",
    "**sys Library**\n",
    "This library provides us access to some variables and functions that are managed by the interpreter itself. In the case of our script, we will be using this to terminate the script if we ever need to do so."
   ]
  },
  {
   "cell_type": "markdown",
   "id": "14e07b7f-3b55-4d82-84b1-a571dde1dc27",
   "metadata": {},
   "source": [
    "<code>sense = SenseHat()\n",
    "sense.clear()<code>"
   ]
  },
  {
   "cell_type": "markdown",
   "id": "08b55773-ffa8-4df0-8a03-a6d6d6439619",
   "metadata": {},
   "source": [
    "The first line creates a link to the Sense Hat library and initializes itself so we can start making calls to it.<br><br>\n",
    "The second line tells the library to clear the LED Matrix, by default, this means switching off all the LEDs. It’s always a good idea to do this when dealing with the Sense HAT as it ensures nothing is being displayed already."
   ]
  },
  {
   "cell_type": "markdown",
   "id": "8763b524-67e4-43b9-8427-bc287528819f",
   "metadata": {},
   "source": [
    "<code>try:\n",
    "      while True:<code>"
   ]
  },
  {
   "cell_type": "markdown",
   "id": "4f775e84-3f2d-4ede-870c-185dbc258388",
   "metadata": {},
   "source": [
    "We set up our first **try statement**, and we need to do this so we can break out of our while loop by pressing CTRL + C make sure you keep the indentation for the while True.\n",
    "\n",
    "This required spacing is because Python is sensitive to indentation. The next few lines of code will need a three-tab (12 spaces) indentation."
   ]
  },
  {
   "cell_type": "markdown",
   "id": "1ad0087d-86e8-4001-8713-dcddf1e1d80f",
   "metadata": {},
   "source": [
    "<code>            temp = sense.get_temperature()<code>"
   ]
  },
  {
   "cell_type": "markdown",
   "id": "fc47a049-7b25-40de-bd9e-7a93fdf43cbc",
   "metadata": {},
   "source": [
    "Getting the temperature is extremely simple, thanks to the Sense HAT Library. All we have to do is make a call to the library for it to retrieve the temperature from the sensor.\n",
    "\n",
    "The output that this will give us will be in Celsius, it also provides a larger decimal number, but we will deal with that on our next line of code.\n",
    "\n",
    "We will explain how to convert the temperature to Fahrenheit if you would prefer to deal with that instead of Celsius.\n",
    "\n",
    "**Celsius**"
   ]
  },
  {
   "cell_type": "markdown",
   "id": "6003e2b9-8edd-462b-9c6a-ac19c8540547",
   "metadata": {},
   "source": [
    "<code>            temp = round(temp, 1)<code>"
   ]
  },
  {
   "cell_type": "markdown",
   "id": "5f3f52df-6b9e-4722-9e92-930daa26092f",
   "metadata": {},
   "source": [
    "**Fahrenheit**"
   ]
  },
  {
   "cell_type": "markdown",
   "id": "ccab94be-6218-4246-9c13-d0876d8d73ab",
   "metadata": {},
   "source": [
    "<code>            temp = 1.8 * round(temp, 1)  + 32<code>"
   ]
  },
  {
   "cell_type": "markdown",
   "id": "d16455d2-151b-4a9c-8141-cc3e2ced1949",
   "metadata": {},
   "source": [
    "Here we give you two choices for this line of code, and the Celsius code utilizes the value we got from the sensor and rounds it to the nearest decimal place.\n",
    "\n",
    "The Fahrenheit code is basically the same, the only difference being that we convert the value from Celsius to Fahrenheit.\n",
    "\n",
    "**Celsius**"
   ]
  },
  {
   "cell_type": "markdown",
   "id": "05119bdb-da17-402d-9cfe-0f69e7058b7d",
   "metadata": {},
   "source": [
    "<code>            print(\"Temperature C\",temp)<code>\n",
    "\n",
    "**Fahrenheit**"
   ]
  },
  {
   "cell_type": "markdown",
   "id": "6c227ebf-8448-445f-b94e-14b9677ed10d",
   "metadata": {},
   "source": [
    "<code>            print(\"Temperature F\",temp)<code>"
   ]
  },
  {
   "cell_type": "markdown",
   "id": "d714434b-243d-43dd-95f4-fa52d080c199",
   "metadata": {},
   "source": [
    "This bit of code is extremely basic and just prints the temperature to the terminal.\n",
    "\n",
    "<code>            humidity = sense.get_humidity()  \n",
    "            humidity = round(humidity, 1)  \n",
    "            print(\"Humidity :\",humidity)<code>  \n",
    "\n",
    "<code>            pressure = sense.get_pressure()\n",
    "            pressure = round(pressure, 1)\n",
    "            print(\"Pressure:\",pressure)<code"
   ]
  },
  {
   "cell_type": "markdown",
   "id": "6a3fc852-78c9-4eda-9274-fb5001bc10dc",
   "metadata": {},
   "source": [
    "Both the humidity and pressure sensors can be read just like the temperature sensor.\n",
    "\n",
    "Luckily for us, the Sense HAT library makes this incredibly simple. Their values also come back with as a large decimal number, so we will again round them then display the values to the terminal.\n",
    "\n",
    "There isn’t much extra to say about these two code blocks as they operate just like the temperature code."
   ]
  },
  {
   "cell_type": "markdown",
   "id": "b6cd79ed-6a92-4cc5-adae-83c7b1fc95cf",
   "metadata": {},
   "source": [
    "<code>            time.sleep(1)<code>"
   ]
  },
  {
   "cell_type": "markdown",
   "id": "dd1aa3eb-5cf1-43e9-9a18-193922b2a15a",
   "metadata": {},
   "source": [
    "This line is a simple call to the time library that puts the script to sleep for approximately one second. It is mainly to reduce the rate at which the data is read and outputted.\n",
    "\n",
    "You can speed up the read rate by decreasing this number or deleting the line. You can also slow it down further by increasing the number. The number should approximately be the number of seconds you want it to wait between reads."
   ]
  },
  {
   "cell_type": "markdown",
   "id": "66a8173b-15d2-4b72-9e18-0f052e641aea",
   "metadata": {},
   "source": [
    "<code>except KeyboardInterrupt:\n",
    "      pass<code>"
   ]
  },
  {
   "cell_type": "markdown",
   "id": "d85bb972-9049-485c-b482-4253aa294708",
   "metadata": {},
   "source": [
    "This code makes the try look for a **KeyboardInterrupt** exception. When it is triggered, we ignore the exception so we can have the script leave the while loop cleanly. We do this by calling **pass**.\n",
    "\n",
    "3. With all the code entered into our Python file, you should end up with something that looks like below, of course, this will differ if you have used the Fahrenheit conversion code and not just straight Celsius."
   ]
  },
  {
   "cell_type": "markdown",
   "id": "fe5d436e-4cfb-41c0-8d80-6b525f8b4658",
   "metadata": {},
   "source": [
    "Final weather_script.py\n",
    "\n",
    "<code>#!/usr/bin/python\n",
    "from sense_hat import SenseHat\n",
    "import time\n",
    "import sys<code>\n",
    "\n",
    "<code>sense = SenseHat()\n",
    "sense.clear()<code>\n",
    "\n",
    "<code>try:\n",
    "      while True:\n",
    "           temp = sense.get_temperature()\n",
    "           temp = round(temp, 1)\n",
    "           print(\"Temperature C\",temp) <code>\n",
    "\n",
    "<code>           humidity = sense.get_humidity()  \n",
    "           humidity = round(humidity, 1)  \n",
    "           print(\"Humidity :\",humidity)  <code>\n",
    "\n",
    "<code>           pressure = sense.get_pressure()\n",
    "           pressure = round(pressure, 1)\n",
    "           print(\"Pressure:\",pressure)<code>\n",
    "\n",
    "<code>           time.sleep(1)\n",
    "except KeyboardInterrupt:\n",
    "      pass<code>"
   ]
  },
  {
   "cell_type": "code",
   "execution_count": null,
   "id": "3e282cfb-adaf-4501-9229-d4ef925db057",
   "metadata": {},
   "outputs": [],
   "source": [
    "#!/usr/bin/python\n",
    "from sense_hat import SenseHat\n",
    "import time\n",
    "import sys\n",
    "\n",
    "sense = SenseHat()\n",
    "sense.clear()\n",
    "\n",
    "try:\n",
    "      while True:\n",
    "           temp = sense.get_temperature()\n",
    "           temp = round(temp, 1)\n",
    "           print(\"Temperature C\",temp) \n",
    "\n",
    "           humidity = sense.get_humidity()  \n",
    "           humidity = round(humidity, 1)  \n",
    "           print(\"Humidity :\",humidity)  \n",
    "\n",
    "           pressure = sense.get_pressure()\n",
    "           pressure = round(pressure, 1)\n",
    "           print(\"Pressure:\",pressure)\n",
    "\n",
    "           time.sleep(1)\n",
    "except KeyboardInterrupt:\n",
    "      pass"
   ]
  },
  {
   "cell_type": "markdown",
   "id": "5830f120-9951-4303-8656-053316e11404",
   "metadata": {},
   "source": [
    "Once your code looks something like the one displayed above, and you are certain you have correctly indented your code you can quit and save, press CTRL + X, then Y and then press ENTER."
   ]
  },
  {
   "cell_type": "markdown",
   "id": "25308dc1-17c9-4cfd-8b26-045f7a520478",
   "metadata": {},
   "source": [
    "4. We can now run our new Python script by running the following command in terminal."
   ]
  },
  {
   "cell_type": "markdown",
   "id": "ac215d13-d499-4425-b8bb-af2b8d6b7b70",
   "metadata": {},
   "source": [
    "<code>sudo python ~/weather_script.py<code>"
   ]
  },
  {
   "cell_type": "markdown",
   "id": "9648421a-1feb-455e-9ff7-c05e80f5be12",
   "metadata": {},
   "source": [
    "5. You should now start to see text similar to the following appear in your terminal if everything is working as it should be."
   ]
  },
  {
   "cell_type": "markdown",
   "id": "e07aaa29-4ed1-4773-a07f-beb9c2527b8f",
   "metadata": {},
   "source": [
    ">('Temperature C', 30.0)\n",
    "\n",
    ">('Humidity :', 39.8\n",
    "\n",
    ">('Pressure:', 1025.7)"
   ]
  },
  {
   "cell_type": "markdown",
   "id": "30af60e4-c2d1-4a20-8a39-cde98b530921",
   "metadata": {},
   "source": [
    "Once you’re happy with the data that is being displayed, you can stop the script by pressing CTRL + C. This will terminate the script from running. Of course, you probably don’t want to have to be looking at your Raspberry Pi’s terminal to be able to get the current data from it."
   ]
  },
  {
   "cell_type": "markdown",
   "id": "6a1cb292-2b03-4fea-a727-66e0788691fe",
   "metadata": {},
   "source": [
    "Instead, we are going to show you two other methods for displaying data, the first of these is to display the data to the LED matrix.\n",
    "\n",
    "The other method is to utilize a piece of software called Initial State that will allow us to graph the data, and if you decide to pay for the software, you can also store the data over a period of time."
   ]
  },
  {
   "cell_type": "markdown",
   "id": "d953cd74-a7bf-446c-9125-1be4048fa0a1",
   "metadata": {},
   "source": [
    "# Improving your weather station – Utilizing the LED Matrix"
   ]
  },
  {
   "cell_type": "markdown",
   "id": "38578e79-0275-47e0-9cda-5648e6ab879a",
   "metadata": {},
   "source": [
    "Changing our weather Python script to start displaying its data to the LED matrix is relatively easy. It will involve us concatenating all our prints together into a single string, then issuing the **show_message** command to the Sense Hat library.\n",
    "\n",
    "Before we get started let’s begin editing our weather script by running the following command."
   ]
  },
  {
   "cell_type": "markdown",
   "id": "963ad47b-62f6-416d-8423-a8747206a25b",
   "metadata": {},
   "source": [
    "<code>sudo nano ~/weather_script.py<code>"
   ]
  },
  {
   "cell_type": "markdown",
   "id": "30d25165-8e6c-47b6-bf10-0f130468d9c3",
   "metadata": {},
   "source": [
    "2. Now that we are in our weather script we can begin making some changes, above the **time.sleep** line we need to add an extra line of code. It basically handles everything in one simple line.\n",
    "\n",
    "**Above**"
   ]
  },
  {
   "cell_type": "markdown",
   "id": "4a300918-308e-4bd1-92fe-24548b5e1dcd",
   "metadata": {},
   "source": [
    "<code>           time.sleep(1)<code>\n",
    "    \n",
    "**Add**\n",
    "    \n",
    "<code>           sense.show_message(\"Temperature C\" + str(temp) + \"Humidity:\" + str(humidity) + \"Pressure:\" + str(pressure), scroll_speed=(0.08), back_colour= [0,0,200])<code>"
   ]
  },
  {
   "cell_type": "markdown",
   "id": "cf2633bc-5fcd-4daa-b22b-1184674f4d61",
   "metadata": {},
   "source": [
    "Make sure you have typed out this line of code all onto a single line. This change will make the temperature, humidity, and pressure scroll across the Sense HAT LED matrix.\n",
    "\n",
    "We will explain a bit of what we are doing here. We firstly concatenate the temperature onto the end of “Temperature C”, however since the temp variable is a number we need to wrap it in str() to convert it to a string.\n",
    "\n",
    "Not converting the string will cause issues due to the way Python interprets adding a number to a string. We do this same process for the humidity and pressure.\n",
    "\n",
    "We also decrease the scroll speed to 0.08, and we do that with the following part of the code <code>scroll_speed=(0.08)<code>\n",
    "\n",
    "You can increase or decrease this number to either speed up or decrease the speed the text scrolls.\n",
    "\n",
    "The last bit of code we have on this line is <code>back_colour= [0,0,200]<code>,\n",
    "\n",
    "This part of the code sets the background color of the text to blue.\n",
    "\n",
    "You can also change the color of the text itself. We can do this with our example of setting the colour of the text to a pinky color by adding the following: <code>, text_color=[200,0,200]<code> after <code>back_color[0,0,200]<code>."
   ]
  },
  {
   "cell_type": "markdown",
   "id": "2a2aa171-35e6-4d66-8d15-8d5731a41b2d",
   "metadata": {},
   "source": [
    "3. With that line added there is one last thing we will want to add, that being a call to **sense.clear()**."
   ]
  },
  {
   "cell_type": "markdown",
   "id": "3151ce79-a90f-44bb-a93e-2dcd76a1bae2",
   "metadata": {},
   "source": [
    "<code>sense.clear()<code>"
   ]
  },
  {
   "cell_type": "markdown",
   "id": "05b74609-2366-41b5-af01-0cd16a3e8b66",
   "metadata": {},
   "source": [
    "This code will ensure that the LED matrix is completely cleared if we kill the script for any reason. It also stops the annoyance of having to deal with a partially turned on LED matrix and has the added benefit of saving a tiny amount of power, but there is no point on leaving something switched on when you are not utilizing it.\n",
    "\n",
    "It is also good coding practice to make sure you clean-up everything when you stop a script from running. It helps prevent things like memory leaks from occurring."
   ]
  },
  {
   "cell_type": "markdown",
   "id": "c352cae9-4619-4861-9062-f05b2c9452ea",
   "metadata": {},
   "source": [
    "4. With those changes made your code should look similar to what is displayed below. Remember that the **sense.show_message** code should be contained within a single line."
   ]
  },
  {
   "cell_type": "markdown",
   "id": "78c30989-90df-4d75-bf17-d793c23c579d",
   "metadata": {},
   "source": [
    "Final python code with LED's"
   ]
  },
  {
   "cell_type": "code",
   "execution_count": null,
   "id": "4fb1932f-8726-4596-bf6a-c1586c4c327f",
   "metadata": {},
   "outputs": [],
   "source": [
    "#!/usr/bin/python\n",
    "from sense_hat import SenseHat\n",
    "import time\n",
    "import sys\n",
    "\n",
    "sense = SenseHat()\n",
    "sense.clear()\n",
    "\n",
    "try:\n",
    "      while True:\n",
    "           temp = sense.get_temperature()\n",
    "           temp = round(temp, 1)\n",
    "           print(\"Temperature C\",temp) \n",
    "\n",
    "            humidity = sense.get_humidity()  \n",
    "            humidity = round(humidity, 1)  \n",
    "            print(\"Humidity :\",humidity)  \n",
    "\n",
    "            pressure = sense.get_pressure()\n",
    "            pressure = round(pressure, 1)\n",
    "            print(\"Pressure:\",pressure)\n",
    "\n",
    "            sense.show_message(\"Temperature C\" + str(temp) + \"Humidity:\" + str(humidity) + \"Pressure:\" + str(pressure), scroll_speed=(0.08), back_colour= [0,0,200])\n",
    "\n",
    "           time.sleep(1)\n",
    "except KeyboardInterrupt:\n",
    "      pass\n",
    "\n",
    "sense.clear()"
   ]
  },
  {
   "cell_type": "markdown",
   "id": "6d5f4fd8-9e1a-4bb3-998a-4725edc9e912",
   "metadata": {},
   "source": [
    "Once your code looks something like the one displayed above and you are certain you have correctly indented your code you can quit and save, press CTRL + X and then press Y and then press ENTER."
   ]
  },
  {
   "cell_type": "markdown",
   "id": "60054eb3-9c8c-4db0-8bdc-723c55b1371c",
   "metadata": {},
   "source": [
    "5. Now we can test our modified script to make sure that it functions correctly. Run the following command in terminal to run the script."
   ]
  },
  {
   "cell_type": "markdown",
   "id": "eb39a28d-707f-4747-837a-39bf8ccc3289",
   "metadata": {},
   "source": [
    "<code>sudo python ~/weather_script.py<code>"
   ]
  },
  {
   "cell_type": "markdown",
   "id": "dba54b50-fab7-4df8-b213-5f094237d34e",
   "metadata": {},
   "source": [
    "The text should now begin to scroll across the Sense Hat’s LED matrix. Of course, as you will quickly notice, this isn’t the easiest way of viewing all the sensors data.\n",
    "\n",
    "The viewability of the display is mainly due to the small nature of the LED matrix making the text more difficult to read and only being able to display a single letter at one time. Of course, if you have an actual LED screen and not a light matrix, it will be a much better option for displaying your data on your Pi.\n",
    "\n",
    "A nicer way of displaying your data is by utilizing a piece of software such as Initial State. We will go into setting up Initial state and getting our script to send data to it on the next page."
   ]
  },
  {
   "cell_type": "markdown",
   "id": "aa0b7d72-ba28-4990-a084-ef771fa2e19a",
   "metadata": {},
   "source": [
    "# Improving your Raspberry Pi weather station with Initial State"
   ]
  },
  {
   "cell_type": "markdown",
   "id": "bde76d17-9a3e-4e6a-881a-38ed1f9b1706",
   "metadata": {},
   "source": [
    "1. For those who don’t know, Initial State is a website designed to act as a sort of data storage and data analytics site for the [Internet of Things devices](https://pimylifeup.com/category/projects/iot/) like the Raspberry Pi. We’re using Initial state in this tutorial as the [Cayenne IOT builder for the Raspberry Pi](https://pimylifeup.com/raspberry-pi-cayenne/) doesn’t currently support the sense HAT, if [they eventually add it](http://community.mydevices.com/t/sense-hat-support-on-raspberry-pi/163), I will update this tutorial to reflect that.\n",
    "Before we get started with implementing everything for the Raspberry Pi weather station, we will first have to sign up for a free account over at [their website](https://www.initialstate.com/).\n",
    "Once on the site, go to **SIGN IN**, in the top right-hand corner of the screen."
   ]
  },
  {
   "cell_type": "markdown",
   "id": "076500c1-7a01-4df0-b40f-b7718bf8577c",
   "metadata": {},
   "source": [
    "![1-initial-state](1-Initial-state-e1492166231357.png)"
   ]
  },
  {
   "cell_type": "markdown",
   "id": "870444d8-6315-4e31-85cf-62011055d901",
   "metadata": {},
   "source": [
    "![2-initial-state](2-Initial-state-login-e1492166393440.png)"
   ]
  },
  {
   "cell_type": "markdown",
   "id": "dad28735-22e8-418c-81ec-7b7ee832e32f",
   "metadata": {},
   "source": [
    "2. Now on the sign in screen, we need click on **Register A New Account**."
   ]
  },
  {
   "cell_type": "markdown",
   "id": "f7cf1204-4714-4012-b66a-7606c05c3681",
   "metadata": {},
   "source": [
    "3. Finally, sign up your new user, make sure you set a strong password that you can remember as you will need this to get your API key and view your data."
   ]
  },
  {
   "cell_type": "markdown",
   "id": "6c0a7437-a94e-44d2-b27b-f50cc435d9e7",
   "metadata": {},
   "source": [
    "![3-initial-state](3-Account-registration-e1492166447709.png)"
   ]
  },
  {
   "cell_type": "markdown",
   "id": "0ecdb88f-ace5-4807-b9dc-0c5fcff63afc",
   "metadata": {},
   "source": [
    "4. Now with your new user, go back to the sign in page and sign into your new Initial State user, we will need to grab the API key from here before we get started with our script."
   ]
  },
  {
   "cell_type": "markdown",
   "id": "09d6df99-9367-4ae1-b3e2-9a910c37fcc7",
   "metadata": {},
   "source": [
    "![3a-initial-state](3A-Initial-state-login-LOGIN-e1492166508192.png)"
   ]
  },
  {
   "cell_type": "markdown",
   "id": "01784183-d5f4-417a-8871-b6a56c0dfa10",
   "metadata": {},
   "source": [
    "5. You should now be greeted by an empty dashboard screen like below, to get to the screen where you can generate an API key you will need to click on your **email address** in the top right-hand corner."
   ]
  },
  {
   "cell_type": "markdown",
   "id": "79e587ed-30e7-4361-89ad-95ab23f3933a",
   "metadata": {},
   "source": [
    "![4-initial-state](4-Initial-state-initial-screen-e1492166657124.png)"
   ]
  },
  {
   "cell_type": "markdown",
   "id": "8d8b1b60-61d2-40df-a8a3-395f7775f320",
   "metadata": {},
   "source": [
    "6. Now that we are on our account screen we need to scroll all the way to the bottom and look for **Streaming Access Keys**, underneath here you should see a **Create a New Key** button, press it. Once the key is generated write it down somewhere safe, as you will need this for our script."
   ]
  },
  {
   "cell_type": "markdown",
   "id": "1fac2519-a7bf-4ef5-9dc5-3f412588cb0a",
   "metadata": {},
   "source": [
    "![5-initial-state](5-Initial-state-api-key-e1492166716936.png)"
   ]
  },
  {
   "cell_type": "markdown",
   "id": "94244bf7-c9e4-4b5a-82d7-32aef1f423b7",
   "metadata": {},
   "source": [
    "7. We can now get on with installing the Initial State python streamer, to do this we are going to grab their install script directly from their website. While it is not normally safe to run a script through CURL, Initial State is a trusted site. However, if you want to check the script yourself, you can view it by going to the following URL: https://get.initialstate.com/python\n",
    "\n",
    "If you are okay with running the script, then enter this command into the terminal."
   ]
  },
  {
   "cell_type": "markdown",
   "id": "1af7df0d-acf3-4b2e-9fb7-d258febdeb2f",
   "metadata": {},
   "source": [
    "<code>curl -ssl https://get.initialstate.com/python -o - | sudo bash<code>"
   ]
  },
  {
   "cell_type": "markdown",
   "id": "d946122f-e163-4f67-aca1-9433c8ec219d",
   "metadata": {},
   "source": [
    "![6-initial-state](6-Installing-initial-state-e1492166795311.png)"
   ]
  },
  {
   "cell_type": "markdown",
   "id": "a8dddb00-7572-4a2f-8140-c626b60e7904",
   "metadata": {},
   "source": [
    "8. Eventually, you will be greeted with the following prompt, press **N** to skip having to download the example code, and we will not need it for our tutorial."
   ]
  },
  {
   "cell_type": "markdown",
   "id": "83a18715-dde7-4dd8-87bd-9f1f48160677",
   "metadata": {},
   "source": [
    "9. Now we have the streamer installed, and we can begin editing our previous weather script. Run the following command to start editing the file."
   ]
  },
  {
   "cell_type": "markdown",
   "id": "bb22de85-23ed-48b1-8c6f-840e7fe3f965",
   "metadata": {},
   "source": [
    "<code>sudo nano ~/weather_script.py<code>"
   ]
  },
  {
   "cell_type": "markdown",
   "id": "8549c4c9-1c42-4c98-9338-8d1b8caeb716",
   "metadata": {},
   "source": [
    "10. Now we will have first to make a couple of code additions to this file. Add the following lines to the file.\n",
    "\n",
    "**Below**"
   ]
  },
  {
   "cell_type": "markdown",
   "id": "ccc0a342-2ef8-443c-811e-0243b2e9613e",
   "metadata": {},
   "source": [
    "<code>import sys<code>"
   ]
  },
  {
   "cell_type": "markdown",
   "id": "4eaab866-a84c-4269-a3d2-60c6f42a88f7",
   "metadata": {},
   "source": [
    "**Add**\n",
    "\n",
    "<code>from ISStreamer.Streamer import Streamer<code>"
   ]
  },
  {
   "cell_type": "markdown",
   "id": "cb59887b-a8ca-4e9d-b08f-e611a658540a",
   "metadata": {},
   "source": [
    "This line imports the Initial State streamer package, and this will allow us to make a connection to their website and stream our data to it.\n",
    "\n",
    "**Below**"
   ]
  },
  {
   "cell_type": "markdown",
   "id": "40fa271d-5bf6-43a2-8189-021dd62a3f08",
   "metadata": {},
   "source": [
    "<code>sense = SenseHat()<code>"
   ]
  },
  {
   "cell_type": "markdown",
   "id": "4f3cfbff-902e-4a13-ad0d-3d7701d14125",
   "metadata": {},
   "source": [
    "**Add**\n",
    "\n",
    "<code>logger = Streamer(bucket_name=\"Sense Hat Sensor Data\", access_key=\"YOUR_KEY_HERE\")<code>"
   ]
  },
  {
   "cell_type": "markdown",
   "id": "1567bb07-44a8-4f76-9352-608dcf64909e",
   "metadata": {},
   "source": [
    "This line creates the Streamer and initializes a connection with Initial Senses servers, make sure you replace **YOUR_KEY_HERE** with the key you got in step 6.\n",
    "\n",
    "**Replace**"
   ]
  },
  {
   "cell_type": "markdown",
   "id": "d9b3e2fc-9a1f-4f48-bed6-201d0e2c01dd",
   "metadata": {},
   "source": [
    "<code>print(<code)"
   ]
  },
  {
   "cell_type": "markdown",
   "id": "6e0b1fe8-71a1-4ef8-b9ab-4c978f3531d4",
   "metadata": {},
   "source": [
    "**With**\n",
    "\n",
    "<code>logger.log(<code>"
   ]
  },
  {
   "cell_type": "markdown",
   "id": "2944b892-4c3a-45d1-a6ca-45616d4a2a4e",
   "metadata": {},
   "source": [
    "On this step you need to replace all occurrences of print( with logger.log( this will make the script log all your sensor data to Initial State’s website. Luckily for us, the log method of the Streamer object follows the same parameters as print. So, we can just easily swap out the functions.\n",
    "\n",
    "Your code should now look like something similar to what is displayed below."
   ]
  },
  {
   "cell_type": "code",
   "execution_count": null,
   "id": "24a620c1-a365-4a79-aa63-b42a44b6f738",
   "metadata": {},
   "outputs": [],
   "source": [
    "#!/usr/bin/python\n",
    "from sense_hat import SenseHat\n",
    "import time\n",
    "import sys\n",
    "from ISStreamer.Streamer import Streamer  \n",
    "\n",
    "sense = SenseHat()\n",
    "logger = Streamer(bucket_name=\"Sense Hat Sensor Data\", access_key=\"YOUR_KEY_HERE\")  \n",
    "sense.clear()\n",
    "\n",
    "try:\n",
    "      while True:\n",
    "           temp = sense.get_temperature()\n",
    "           temp = round(temp, 1)\n",
    "           logger.log(\"Temperature C\",temp) \n",
    "\n",
    "            humidity = sense.get_humidity()  \n",
    "            humidity = round(humidity, 1)  \n",
    "            logger.log(\"Humidity :\",humidity)  \n",
    "\n",
    "            pressure = sense.get_pressure()\n",
    "            pressure = round(pressure, 1)\n",
    "            logger.log(\"Pressure:\",pressure)\n",
    "\n",
    "           time.sleep(1)\n",
    "except KeyboardInterrupt:\n",
    "      pass"
   ]
  },
  {
   "cell_type": "markdown",
   "id": "3c77deb2-812a-478c-a8c9-6ddea8de1435",
   "metadata": {},
   "source": [
    "Once your code looks something like the one displayed above, and you are certain you have correctly indented your code you can quit and save, press Ctrl+X and then Y and then press enter."
   ]
  },
  {
   "cell_type": "markdown",
   "id": "c95816fb-b59e-488a-8051-537973c5d501",
   "metadata": {},
   "source": [
    "11. Now we have made those changes we can finally run our updated script by running the following command."
   ]
  },
  {
   "cell_type": "markdown",
   "id": "dfd784cf-8b36-4f0c-ba7d-f5c530cb1029",
   "metadata": {},
   "source": [
    "<code>sudo python ~/weather_script.py<code>"
   ]
  },
  {
   "cell_type": "markdown",
   "id": "14a05ba3-ee86-406e-bb32-17cade422f13",
   "metadata": {},
   "source": [
    "The script will immediately start to send your data to the website.\n",
    "\n",
    "12. Now going back to your Initial State dashboard, you should now see your new data set on the left-hand side, click it. "
   ]
  },
  {
   "cell_type": "markdown",
   "id": "0ffed93d-a849-4a9c-a1f6-60ac95452979",
   "metadata": {},
   "source": [
    "![7-Sense-hat-sensor-data](7-SEnse-hat-sensor-data-e1492166843106.png)"
   ]
  },
  {
   "cell_type": "markdown",
   "id": "f8e5f5fc-6c91-4e2b-8c13-c9cba90edc38",
   "metadata": {},
   "source": [
    "13. With the data set selected, we can now choose how we want to view the data, for this tutorial we will select **Tiles** as this is the most versatile option."
   ]
  },
  {
   "cell_type": "markdown",
   "id": "16cec837-0048-45fd-8176-f1feefe36d7a",
   "metadata": {},
   "source": [
    "![8-select-display-type](8-Select-display-type-e1492166891887.png)"
   ]
  },
  {
   "cell_type": "markdown",
   "id": "6b3744ac-4ce9-4d13-9245-380bec30e6b9",
   "metadata": {},
   "source": [
    "14. You should now be greeted with a display like the one below, and this will continually update itself with the new values as they are sent from your Raspberry Pi.\n",
    "If you want to change the graph that is being displayed for any of the values, you can right click on them and click on **Configure Tile**."
   ]
  },
  {
   "cell_type": "markdown",
   "id": "d4812999-47f1-4775-862c-5b26c5ff8469",
   "metadata": {},
   "source": [
    "![9-tile-display](9-Tile-Display-e1492166110674.png)"
   ]
  },
  {
   "cell_type": "markdown",
   "id": "f71713c8-2ba8-469c-9ab1-c90ef6434f4a",
   "metadata": {},
   "source": [
    "# Improving your Weather Station – Start script at startup"
   ]
  },
  {
   "cell_type": "markdown",
   "id": "fda79ca5-4b9f-4646-b2a9-ff13395b3f2e",
   "metadata": {},
   "source": [
    "1. Before we get started with setting up our script, we first need to install an additional package we may have to rely on. This package is **dos2unix**, and this converts DOS-style line endings into something that is Unix friendly.\n",
    "Run the following [Linux command in the terminal](https://pimylifeup.com/linux-commands-cheat-sheet/) to install the package."
   ]
  },
  {
   "cell_type": "markdown",
   "id": "23067513-fb0c-43be-a01e-f6fc854735a7",
   "metadata": {},
   "source": [
    "<code>sudo apt-get install dos2unix<code>"
   ]
  },
  {
   "cell_type": "markdown",
   "id": "426b40b4-2aad-4656-938f-a556faf7302a",
   "metadata": {},
   "source": [
    "2. To set up our Python script as a service, so it starts on boot we will need to write up a short script. The advantage of this script is that we will be able to stop it and force a restart easily.\n",
    "To begin let’s start writing our new script by running the following command."
   ]
  },
  {
   "cell_type": "markdown",
   "id": "ac7cf1dc-e93e-49a8-96a9-9c0644cebf7e",
   "metadata": {},
   "source": [
    "<code>sudo nano /etc/init.d/weatherstation<code>"
   ]
  },
  {
   "cell_type": "markdown",
   "id": "9335f88d-e415-4fea-be5f-8be4d3726204",
   "metadata": {},
   "source": [
    "Now write the following into the file, this is quite a bit of code. You can find all the code we use in this tutorial over at the [GitHub page for this tutorial](https://github.com/pimylifeup/Pi-Weather-Station)."
   ]
  },
  {
   "cell_type": "markdown",
   "id": "9925a3ef-299f-40d8-9ef5-32398b7d4240",
   "metadata": {},
   "source": [
    "Weather station service"
   ]
  },
  {
   "cell_type": "code",
   "execution_count": null,
   "id": "7aa1b567-95de-4b05-bc96-a104c10284dd",
   "metadata": {},
   "outputs": [],
   "source": [
    "#!/bin/bash\n",
    "### BEGIN INIT INFO\n",
    "# Provides:          weatherstation\n",
    "# Required-Start:    \n",
    "# Required-Stop:     \n",
    "# Default-Start:     2 3 4 5\n",
    "# Default-Stop:      0 1 6\n",
    "# Short-Description: Start/stops the weatherstation\n",
    "# Description:       Start/stops the weatherstation\n",
    "### END INIT INFO\n",
    "\n",
    "DIR=/home/pi\n",
    "DAEMON=$DIR/weather_script.py\n",
    "DAEMON_NAME=weatherstation\n",
    "\n",
    "DAEMON_USER=root\n",
    "\n",
    "PIDFILE=/var/run/$DAEMON_NAME.pid\n",
    "\n",
    ". /lib/lsb/init-functions\n",
    "\n",
    "do_start () {\n",
    "    log_daemon_msg \"Starting system $DAEMON_NAME daemon\"\n",
    "    start-stop-daemon --start --background --pidfile $PIDFILE --make-pidfile --user $DAEMON_USER --chuid $DAEMON_USER --startas $DAEMON\n",
    "    log_end_msg $?\n",
    "}\n",
    "do_stop () {\n",
    "    log_daemon_msg \"Stopping system $DAEMON_NAME daemon\"\n",
    "    start-stop-daemon --stop --pidfile $PIDFILE --retry 10\n",
    "    log_end_msg $?\n",
    "}\n",
    "\n",
    "case \"$1\" in\n",
    "    start|stop)\n",
    "        do_${1}\n",
    "        ;;\n",
    "\n",
    "    restart|reload|force-reload)\n",
    "        do_stop\n",
    "        do_start\n",
    "        ;;\n",
    "\n",
    "    status)\n",
    "        status_of_proc \"$DAEMON_NAME\" \"$DAEMON\" && exit 0 || exit $?\n",
    "        ;;\n",
    "    *)\n",
    "\n",
    "        echo \"Usage: /etc/init.d/$DAEMON_NAME {start|stop|restart|status}\"\n",
    "        exit 1\n",
    "        ;;\n",
    "esac\n",
    "exit 0"
   ]
  },
  {
   "cell_type": "markdown",
   "id": "4c7b4e26-bca6-4356-b3fc-3925e64ff7d4",
   "metadata": {},
   "source": [
    "3. Now we have written all that code into the file, and we can now save and exit it by pressing CTRL + X then pressing Y and then ENTER."
   ]
  },
  {
   "cell_type": "markdown",
   "id": "569c0852-1f1a-46b1-ae2c-22ea32f206de",
   "metadata": {},
   "source": [
    "4. Now we have the file saved there is a few things we will need to do to make sure this will correctly work.\n",
    "First things first we will run **dos2unix** on our newly created file. This program will ensure the line endings are correct."
   ]
  },
  {
   "cell_type": "markdown",
   "id": "532514b0-08d2-4559-960b-3182cc4c3044",
   "metadata": {},
   "source": [
    "<code>sudo dos2unix /etc/init.d/weatherstation<code>"
   ]
  },
  {
   "cell_type": "markdown",
   "id": "71ecea32-57f5-4acc-9e25-a3966870ad8b",
   "metadata": {},
   "source": [
    "5. With that done, we need to now change the permissions for our python script. Otherwise, our **init.d** bash script will fail to work. Type the following into the terminal to change its permissions."
   ]
  },
  {
   "cell_type": "markdown",
   "id": "ccb29b91-5376-4fa4-adcb-5c56914bbbc8",
   "metadata": {},
   "source": [
    "<code>sudo chmod 755 /home/pi/weather_script.py<code>"
   ]
  },
  {
   "cell_type": "markdown",
   "id": "516f5050-5777-49b6-b790-e358bdce8998",
   "metadata": {},
   "source": [
    "6. We also need to modify the permissions of our weatherstation bash script, and we need to give it execution rights. We do that by entering the following command."
   ]
  },
  {
   "cell_type": "markdown",
   "id": "052269e0-a485-4c09-b1a6-d9483c116967",
   "metadata": {},
   "source": [
    "<code>sudo chmod +x /etc/init.d/weatherstation<code>"
   ]
  },
  {
   "cell_type": "markdown",
   "id": "424c1287-f4ca-42eb-aa22-ccc0ac866061",
   "metadata": {},
   "source": [
    "7. Now finally, we need to create a symbolic link between our bash script and the **rc.d** folders. We can do that by running the following command in terminal."
   ]
  },
  {
   "cell_type": "markdown",
   "id": "ff60309b-66d5-4d60-a2f1-fc409f09278f",
   "metadata": {},
   "source": [
    "<code>sudo update-rc.d weatherstation defaults<code>"
   ]
  },
  {
   "cell_type": "markdown",
   "id": "3b98e91b-ba9e-4d8b-a959-d2cce6e48398",
   "metadata": {},
   "source": [
    "8. Everything should now be set up, and we can now interact with our new bash file like any other service.\n",
    "\n",
    "To start up our Python script, we can just run the following command."
   ]
  },
  {
   "cell_type": "markdown",
   "id": "77f9313c-8c0e-4739-9295-26d95e4bc049",
   "metadata": {},
   "source": [
    "<code>sudo service weatherstation start<code>"
   ]
  },
  {
   "cell_type": "markdown",
   "id": "92d09b12-1427-4ce7-986b-6f8b4ef85dc6",
   "metadata": {},
   "source": [
    "9. Now everything should be correctly set up, and the weatherstation service should now automatically start on boot. We can also stop the script, reload it, and check the status of the script like most services.\n",
    "\n",
    "Below is a list of commands you can call to interact with the weatherstation service.\n",
    "\n",
    "This command starts up the service which keeps track of your **weather_script.py** file."
   ]
  },
  {
   "cell_type": "markdown",
   "id": "835c4d85-bae9-478b-8f3e-798b058d192b",
   "metadata": {},
   "source": [
    "<code>sudo service weatherstation start<code>"
   ]
  },
  {
   "cell_type": "markdown",
   "id": "0385c0df-0f13-4903-87a1-f931289d380e",
   "metadata": {},
   "source": [
    "The following command stops the weatherstation service and kills the process that is running our **weather_script.py**."
   ]
  },
  {
   "cell_type": "markdown",
   "id": "f986ab42-b773-4c14-9112-e6e83b2d6bc9",
   "metadata": {},
   "source": [
    "<code>sudo service weatherstation stop<code>"
   ]
  },
  {
   "cell_type": "markdown",
   "id": "a564076e-6599-4220-8d8e-99de17838f9b",
   "metadata": {},
   "source": [
    "This command reloads weatherstation service by killing the process and reloading it."
   ]
  },
  {
   "cell_type": "markdown",
   "id": "f7897f18-912d-49f4-ae88-99b93a16cbee",
   "metadata": {},
   "source": [
    "<code>sudo service weatherstation reload<code>"
   ]
  },
  {
   "cell_type": "markdown",
   "id": "27f41cd4-0c91-40dd-ac10-cde6763249fc",
   "metadata": {},
   "source": [
    "The last command shown below retrieves the status of the weatherstation service and our **weather_script.py** script."
   ]
  },
  {
   "cell_type": "markdown",
   "id": "997aaa29-35b9-4873-80e9-989426b1be1b",
   "metadata": {},
   "source": [
    "<code>sudo service weatherstation Status<code>"
   ]
  },
  {
   "cell_type": "code",
   "execution_count": null,
   "id": "58a993ca-7f4f-4fbe-994c-3ac66594e153",
   "metadata": {},
   "outputs": [],
   "source": []
  }
 ],
 "metadata": {
  "kernelspec": {
   "display_name": "Python",
   "language": "python",
   "name": "conda-env-python-py"
  },
  "language_info": {
   "codemirror_mode": {
    "name": "ipython",
    "version": 3
   },
   "file_extension": ".py",
   "mimetype": "text/x-python",
   "name": "python",
   "nbconvert_exporter": "python",
   "pygments_lexer": "ipython3",
   "version": "3.6.13"
  }
 },
 "nbformat": 4,
 "nbformat_minor": 5
}
